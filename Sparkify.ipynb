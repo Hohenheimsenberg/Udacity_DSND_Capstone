{
 "cells": [
  {
   "cell_type": "code",
   "execution_count": 1,
   "metadata": {},
   "outputs": [],
   "source": [
    "# import libraries\n",
    "from pyspark.sql import SparkSession\n",
    "from pyspark.sql.functions import *\n",
    "from pyspark.sql.types import StringType\n",
    "from pyspark.sql.types import IntegerType\n",
    "from pyspark.sql.functions import desc\n",
    "from pyspark.sql.functions import asc\n",
    "from pyspark.sql.functions import sum as Fsum\n",
    "from pyspark.sql import Window\n",
    "\n",
    "from pyspark.ml.classification import DecisionTreeClassifier\n",
    "from pyspark.ml.linalg import Vectors\n",
    "from pyspark.ml.feature import VectorAssembler\n",
    "from pyspark.ml.evaluation import MulticlassClassificationEvaluator\n",
    "from pyspark.mllib.evaluation import MulticlassMetrics\n",
    "from pyspark.ml.tuning import CrossValidator, ParamGridBuilder\n",
    "\n",
    "import pandas as pd"
   ]
  },
  {
   "cell_type": "code",
   "execution_count": 2,
   "metadata": {},
   "outputs": [],
   "source": [
    "# create a Spark session\n",
    "spark = SparkSession \\\n",
    "    .builder \\\n",
    "    .appName(\"Capstone\") \\\n",
    "    .getOrCreate()"
   ]
  },
  {
   "cell_type": "markdown",
   "metadata": {},
   "source": [
    "# Load and Clean Dataset\n",
    "In this workspace, the mini-dataset file is `mini_sparkify_event_data.json`. Load and clean the dataset, checking for invalid or missing data - for example, records without userids or sessionids. "
   ]
  },
  {
   "cell_type": "code",
   "execution_count": 3,
   "metadata": {},
   "outputs": [
    {
     "name": "stdout",
     "output_type": "stream",
     "text": [
      "root\n",
      " |-- artist: string (nullable = true)\n",
      " |-- auth: string (nullable = true)\n",
      " |-- firstName: string (nullable = true)\n",
      " |-- gender: string (nullable = true)\n",
      " |-- itemInSession: long (nullable = true)\n",
      " |-- lastName: string (nullable = true)\n",
      " |-- length: double (nullable = true)\n",
      " |-- level: string (nullable = true)\n",
      " |-- location: string (nullable = true)\n",
      " |-- method: string (nullable = true)\n",
      " |-- page: string (nullable = true)\n",
      " |-- registration: long (nullable = true)\n",
      " |-- sessionId: long (nullable = true)\n",
      " |-- song: string (nullable = true)\n",
      " |-- status: long (nullable = true)\n",
      " |-- ts: long (nullable = true)\n",
      " |-- userAgent: string (nullable = true)\n",
      " |-- userId: string (nullable = true)\n",
      "\n"
     ]
    }
   ],
   "source": [
    "user_log = spark.read.json(\"mini_sparkify_event_data.json\")\n",
    "user_log.printSchema()"
   ]
  },
  {
   "cell_type": "code",
   "execution_count": 4,
   "metadata": {},
   "outputs": [
    {
     "data": {
      "text/plain": [
       "[Row(artist='Martha Tilston', auth='Logged In', firstName='Colin', gender='M', itemInSession=50, lastName='Freeman', length=277.89016, level='paid', location='Bakersfield, CA', method='PUT', page='NextSong', registration=1538173362000, sessionId=29, song='Rockpools', status=200, ts=1538352117000, userAgent='Mozilla/5.0 (Windows NT 6.1; WOW64; rv:31.0) Gecko/20100101 Firefox/31.0', userId='30')]"
      ]
     },
     "execution_count": 4,
     "metadata": {},
     "output_type": "execute_result"
    }
   ],
   "source": [
    "user_log.take(1)"
   ]
  },
  {
   "cell_type": "code",
   "execution_count": 5,
   "metadata": {},
   "outputs": [
    {
     "name": "stdout",
     "output_type": "stream",
     "text": [
      "Number of events:  286500\n"
     ]
    }
   ],
   "source": [
    "print('Number of events: ',user_log.count())"
   ]
  },
  {
   "cell_type": "code",
   "execution_count": 6,
   "metadata": {},
   "outputs": [
    {
     "name": "stdout",
     "output_type": "stream",
     "text": [
      "Number of events whithout a user id:  8346\n"
     ]
    }
   ],
   "source": [
    "print('Number of events whithout a user id: ', user_log.where(col('userid').isNull() | (col('userid') == '')).count())"
   ]
  },
  {
   "cell_type": "code",
   "execution_count": 7,
   "metadata": {},
   "outputs": [
    {
     "name": "stdout",
     "output_type": "stream",
     "text": [
      "Number of events whith a user id:  278154\n"
     ]
    }
   ],
   "source": [
    "user_log = user_log.where(col('userid').isNotNull() & (col('userid') != ''))\n",
    "print('Number of events whith a user id: ',user_log.count())"
   ]
  },
  {
   "cell_type": "markdown",
   "metadata": {},
   "source": [
    "# Exploratory Data Analysis\n",
    "When you're working with the full dataset, perform EDA by loading a small subset of the data and doing basic manipulations within Spark. In this workspace, you are already provided a small subset of data you can explore."
   ]
  },
  {
   "cell_type": "markdown",
   "metadata": {},
   "source": [
    "Users in the dataset"
   ]
  },
  {
   "cell_type": "code",
   "execution_count": 8,
   "metadata": {},
   "outputs": [
    {
     "name": "stdout",
     "output_type": "stream",
     "text": [
      "+-------+------------------+\n",
      "|summary|            userid|\n",
      "+-------+------------------+\n",
      "|  count|               225|\n",
      "|   mean|65391.013333333336|\n",
      "| stddev|105396.47791907164|\n",
      "|    min|                10|\n",
      "|    max|                99|\n",
      "+-------+------------------+\n",
      "\n"
     ]
    }
   ],
   "source": [
    "user_log.select(\"userid\").dropDuplicates().describe().show()"
   ]
  },
  {
   "cell_type": "markdown",
   "metadata": {},
   "source": [
    "Pages that an user can visit"
   ]
  },
  {
   "cell_type": "code",
   "execution_count": 9,
   "metadata": {},
   "outputs": [
    {
     "name": "stdout",
     "output_type": "stream",
     "text": [
      "+--------------------+\n",
      "|                page|\n",
      "+--------------------+\n",
      "|               About|\n",
      "|          Add Friend|\n",
      "|     Add to Playlist|\n",
      "|              Cancel|\n",
      "|Cancellation Conf...|\n",
      "|           Downgrade|\n",
      "|               Error|\n",
      "|                Help|\n",
      "|                Home|\n",
      "|              Logout|\n",
      "|            NextSong|\n",
      "|         Roll Advert|\n",
      "|       Save Settings|\n",
      "|            Settings|\n",
      "|    Submit Downgrade|\n",
      "|      Submit Upgrade|\n",
      "|         Thumbs Down|\n",
      "|           Thumbs Up|\n",
      "|             Upgrade|\n",
      "+--------------------+\n",
      "\n"
     ]
    }
   ],
   "source": [
    "user_log.select(\"page\").dropDuplicates().sort(\"page\").show()"
   ]
  },
  {
   "cell_type": "markdown",
   "metadata": {},
   "source": [
    "Authentication states and subscription levels"
   ]
  },
  {
   "cell_type": "code",
   "execution_count": 10,
   "metadata": {},
   "outputs": [
    {
     "name": "stdout",
     "output_type": "stream",
     "text": [
      "+---------+-----+\n",
      "|     auth|level|\n",
      "+---------+-----+\n",
      "|Cancelled| free|\n",
      "|Cancelled| paid|\n",
      "|Logged In| free|\n",
      "|Logged In| paid|\n",
      "+---------+-----+\n",
      "\n"
     ]
    }
   ],
   "source": [
    "user_log.select(\"auth\",\"level\").dropDuplicates().sort(\"auth\").show()"
   ]
  },
  {
   "cell_type": "markdown",
   "metadata": {},
   "source": [
    "Web pages, http methods and response codes"
   ]
  },
  {
   "cell_type": "code",
   "execution_count": 11,
   "metadata": {},
   "outputs": [
    {
     "name": "stdout",
     "output_type": "stream",
     "text": [
      "+------+------+--------------------+\n",
      "|status|method|                page|\n",
      "+------+------+--------------------+\n",
      "|   200|   GET|               About|\n",
      "|   307|   PUT|          Add Friend|\n",
      "|   200|   PUT|     Add to Playlist|\n",
      "|   307|   PUT|              Cancel|\n",
      "|   200|   GET|Cancellation Conf...|\n",
      "|   200|   GET|           Downgrade|\n",
      "|   404|   GET|               Error|\n",
      "|   200|   GET|                Help|\n",
      "|   200|   GET|                Home|\n",
      "|   307|   PUT|              Logout|\n",
      "|   200|   PUT|            NextSong|\n",
      "|   200|   GET|         Roll Advert|\n",
      "|   307|   PUT|       Save Settings|\n",
      "|   200|   GET|            Settings|\n",
      "|   307|   PUT|    Submit Downgrade|\n",
      "|   307|   PUT|      Submit Upgrade|\n",
      "|   307|   PUT|         Thumbs Down|\n",
      "|   307|   PUT|           Thumbs Up|\n",
      "|   200|   GET|             Upgrade|\n",
      "+------+------+--------------------+\n",
      "\n"
     ]
    }
   ],
   "source": [
    "user_log.select(\"status\", \"method\", \"page\").sort(\"page\").dropDuplicates().show()"
   ]
  },
  {
   "cell_type": "markdown",
   "metadata": {},
   "source": [
    "### Define Churn\n",
    "\n",
    "Once you've done some preliminary analysis, create a column `Churn` to use as the label for your model. I suggest using the `Cancellation Confirmation` events to define your churn, which happen for both paid and free users. As a bonus task, you can also look into the `Downgrade` events."
   ]
  },
  {
   "cell_type": "code",
   "execution_count": 12,
   "metadata": {},
   "outputs": [
    {
     "name": "stdout",
     "output_type": "stream",
     "text": [
      "52 users had their accounts cancelled\n"
     ]
    }
   ],
   "source": [
    "count = user_log.where((col('page') == 'Cancellation Confirmation')  & (col('status') == '200')).count()\n",
    "print('{} users had their accounts cancelled'.format(count))"
   ]
  },
  {
   "cell_type": "code",
   "execution_count": 13,
   "metadata": {},
   "outputs": [
    {
     "name": "stdout",
     "output_type": "stream",
     "text": [
      "2055 times the Dowgrade page was opened\n"
     ]
    }
   ],
   "source": [
    "count = user_log.where((col('page') == 'Downgrade') & (col('status') == '200')).count()\n",
    "print('{} times the Dowgrade page was opened'.format(count))"
   ]
  },
  {
   "cell_type": "code",
   "execution_count": 14,
   "metadata": {},
   "outputs": [
    {
     "name": "stdout",
     "output_type": "stream",
     "text": [
      "63 times an account was actually downgraded\n"
     ]
    }
   ],
   "source": [
    "count = user_log.where((col('page') == 'Submit Downgrade') & (col('status') == '307')).count()\n",
    "print('{} times an account was actually downgraded'.format(count))"
   ]
  },
  {
   "cell_type": "code",
   "execution_count": 15,
   "metadata": {},
   "outputs": [
    {
     "name": "stdout",
     "output_type": "stream",
     "text": [
      "499 times the upgrade page was opened\n"
     ]
    }
   ],
   "source": [
    "count = user_log.where((col('page') == 'Upgrade') & (col('status') == '200')).count()\n",
    "print('{} times the upgrade page was opened'.format(count))"
   ]
  },
  {
   "cell_type": "code",
   "execution_count": 16,
   "metadata": {},
   "outputs": [
    {
     "name": "stdout",
     "output_type": "stream",
     "text": [
      "159 times an account was upgraded\n"
     ]
    }
   ],
   "source": [
    "count = user_log.where((col('page') == 'Submit Upgrade') & (col('status') == '307')).count()\n",
    "print('{} times an account was upgraded'.format(count))"
   ]
  },
  {
   "cell_type": "code",
   "execution_count": 17,
   "metadata": {},
   "outputs": [],
   "source": [
    "cancellation_confirmation_event = udf(lambda x: 1 if x == \"Cancellation Confirmation\" else 0, IntegerType())\n",
    "downgrade_event = udf(lambda x: 1 if x == \"Downgrade\" else 0, IntegerType())\n",
    "\n",
    "user_log = user_log.withColumn(\"churn\", cancellation_confirmation_event(\"page\"))\n",
    "user_log = user_log.withColumn(\"downgraded\", downgrade_event(\"page\"))"
   ]
  },
  {
   "cell_type": "code",
   "execution_count": 18,
   "metadata": {},
   "outputs": [
    {
     "data": {
      "text/plain": [
       "[Row(artist=None, auth='Cancelled', firstName='Adriel', gender='M', itemInSession=104, lastName='Mendoza', length=None, level='paid', location='Kansas City, MO-KS', method='GET', page='Cancellation Confirmation', registration=1535623466000, sessionId=514, song=None, status=200, ts=1538943990000, userAgent='\"Mozilla/5.0 (Macintosh; Intel Mac OS X 10_9_4) AppleWebKit/537.77.4 (KHTML, like Gecko) Version/7.0.5 Safari/537.77.4\"', userId='18', churn=1, downgraded=0),\n",
       " Row(artist=None, auth='Cancelled', firstName='Diego', gender='M', itemInSession=56, lastName='Mckee', length=None, level='paid', location='Phoenix-Mesa-Scottsdale, AZ', method='GET', page='Cancellation Confirmation', registration=1537167593000, sessionId=540, song=None, status=200, ts=1539033046000, userAgent='\"Mozilla/5.0 (iPhone; CPU iPhone OS 7_1_2 like Mac OS X) AppleWebKit/537.51.2 (KHTML, like Gecko) Version/7.0 Mobile/11D257 Safari/9537.53\"', userId='32', churn=1, downgraded=0)]"
      ]
     },
     "execution_count": 18,
     "metadata": {},
     "output_type": "execute_result"
    }
   ],
   "source": [
    "user_log.where((col('page') == 'Cancellation Confirmation')).take(2)"
   ]
  },
  {
   "cell_type": "code",
   "execution_count": 19,
   "metadata": {},
   "outputs": [
    {
     "data": {
      "text/plain": [
       "[Row(artist=None, auth='Logged In', firstName='Kael', gender='M', itemInSession=47, lastName='Baker', length=None, level='paid', location='Kingsport-Bristol-Bristol, TN-VA', method='PUT', page='Submit Downgrade', registration=1533102330000, sessionId=249, song=None, status=307, ts=1538393619000, userAgent='\"Mozilla/5.0 (Macintosh; Intel Mac OS X 10_9_4) AppleWebKit/537.77.4 (KHTML, like Gecko) Version/7.0.5 Safari/537.77.4\"', userId='131', churn=0, downgraded=0),\n",
       " Row(artist=None, auth='Logged In', firstName='Calvin', gender='M', itemInSession=17, lastName='Marshall', length=None, level='paid', location='Pittsburgh, PA', method='PUT', page='Submit Downgrade', registration=1537120757000, sessionId=313, song=None, status=307, ts=1538516445000, userAgent='\"Mozilla/5.0 (Macintosh; Intel Mac OS X 10_9_4) AppleWebKit/537.78.2 (KHTML, like Gecko) Version/7.0.6 Safari/537.78.2\"', userId='38', churn=0, downgraded=0)]"
      ]
     },
     "execution_count": 19,
     "metadata": {},
     "output_type": "execute_result"
    }
   ],
   "source": [
    "user_log.where((col('page') == 'Submit Downgrade')).take(2)"
   ]
  },
  {
   "cell_type": "markdown",
   "metadata": {},
   "source": [
    "### Explore Data\n",
    "Once you've defined churn, perform some exploratory data analysis to observe the behavior for users who stayed vs users who churned. You can start by exploring aggregates on these two groups of users, observing how much of a specific action they experienced per a certain time unit or number of songs played."
   ]
  },
  {
   "cell_type": "code",
   "execution_count": 20,
   "metadata": {},
   "outputs": [],
   "source": [
    "user_window = Window.partitionBy(\"userId\").orderBy(desc(\"ts\")).rangeBetween(Window.unboundedPreceding, 0)\n",
    "user_log = user_log.withColumn(\"phase\", Fsum(\"downgraded\").over(user_window))"
   ]
  },
  {
   "cell_type": "markdown",
   "metadata": {},
   "source": [
    "Sample of a user that cancelled her account"
   ]
  },
  {
   "cell_type": "code",
   "execution_count": 21,
   "metadata": {},
   "outputs": [
    {
     "data": {
      "text/plain": [
       "[Row(userId='100014', ts=1542740649000, page='Cancellation Confirmation', level='paid', phase=0),\n",
       " Row(userId='100014', ts=1542740642000, page='Cancel', level='paid', phase=0),\n",
       " Row(userId='100014', ts=1542740641000, page='Downgrade', level='paid', phase=1),\n",
       " Row(userId='100014', ts=1542740628000, page='NextSong', level='paid', phase=1),\n",
       " Row(userId='100014', ts=1542740352000, page='NextSong', level='paid', phase=1)]"
      ]
     },
     "execution_count": 21,
     "metadata": {},
     "output_type": "execute_result"
    }
   ],
   "source": [
    "user_log.select([\"userId\", \"ts\", \"page\", \"level\", \"phase\"]).where(user_log.userId == \"100014\").sort(col(\"ts\").desc()).take(5)"
   ]
  },
  {
   "cell_type": "markdown",
   "metadata": {},
   "source": [
    "Amount of users by subscription level"
   ]
  },
  {
   "cell_type": "code",
   "execution_count": 22,
   "metadata": {},
   "outputs": [
    {
     "name": "stdout",
     "output_type": "stream",
     "text": [
      "+-----+-----+\n",
      "|level|count|\n",
      "+-----+-----+\n",
      "| free|   21|\n",
      "| paid|   31|\n",
      "+-----+-----+\n",
      "\n"
     ]
    }
   ],
   "source": [
    "churned_users = user_log.where(col('churn') == '1').select('userId', 'level')\n",
    "churned_users.groupby('level').count().show()"
   ]
  },
  {
   "cell_type": "markdown",
   "metadata": {},
   "source": [
    "Pages visited by users before cancelling:"
   ]
  },
  {
   "cell_type": "code",
   "execution_count": 23,
   "metadata": {},
   "outputs": [],
   "source": [
    "tempRDD = user_log.sort('userId','ts')\\\n",
    "            .select('userId','page')\\\n",
    "            .rdd.reduceByKey(lambda x,y: x + ',' + y if (y == 'Cancellation Confirmation' or y == 'Cancel') else y)\n",
    "\n",
    "last_page = tempRDD.toDF(['userId', 'page'])\\\n",
    "                .where(col('page').like('%Confirmation'))\\\n",
    "                .withColumn('page', split(col('page'),','))\\\n",
    "                .withColumn('page', array_remove(col('page'), 'Cancel'))\\\n",
    "                .withColumn('page', array_remove(col('page'), 'Cancellation Confirmation'))\\\n",
    "                .withColumn('page', array_join(col('page'), ''))"
   ]
  },
  {
   "cell_type": "code",
   "execution_count": 24,
   "metadata": {},
   "outputs": [
    {
     "name": "stdout",
     "output_type": "stream",
     "text": [
      "+-----------+-----+------------------+\n",
      "|       page|count|        percentage|\n",
      "+-----------+-----+------------------+\n",
      "|Thumbs Down|    4|7.6923076923076925|\n",
      "|  Downgrade|   20| 38.46153846153846|\n",
      "|Roll Advert|   14|26.923076923076923|\n",
      "|   Settings|   14|26.923076923076923|\n",
      "+-----------+-----+------------------+\n",
      "\n"
     ]
    }
   ],
   "source": [
    "churn_count = user_log.where(col('churn') == '1').count()\n",
    "last_page_df = last_page.groupBy('page').count().withColumn('percentage', 100 * col('count')/churn_count)\n",
    "last_page_df.show()"
   ]
  },
  {
   "cell_type": "code",
   "execution_count": 25,
   "metadata": {},
   "outputs": [],
   "source": [
    "ax = last_page_df.toPandas().plot.pie(y='percentage')\n",
    "ax.legend([\"Thumbds Down\", \"Downgrade\", \"Roll Advert\", \"Settings\"]);"
   ]
  },
  {
   "cell_type": "markdown",
   "metadata": {},
   "source": [
    "If we do a count we see that paid users are getting ads"
   ]
  },
  {
   "cell_type": "code",
   "execution_count": 26,
   "metadata": {},
   "outputs": [
    {
     "name": "stdout",
     "output_type": "stream",
     "text": [
      "246 times a paid user got an ad\n"
     ]
    }
   ],
   "source": [
    "paid_advert_count = user_log.where((col('level') == 'paid') & (col('page') == 'Roll Advert')).count()\n",
    "print('{} times a paid user got an ad'.format(paid_advert_count))"
   ]
  },
  {
   "cell_type": "markdown",
   "metadata": {},
   "source": [
    "In average users that churned perform the following actions"
   ]
  },
  {
   "cell_type": "code",
   "execution_count": 27,
   "metadata": {},
   "outputs": [
    {
     "name": "stdout",
     "output_type": "stream",
     "text": [
      "+--------------------+------------------+\n",
      "|                page|        avg(count)|\n",
      "+--------------------+------------------+\n",
      "|               About|1.8064516129032258|\n",
      "|          Add Friend|14.454545454545455|\n",
      "|     Add to Playlist|             20.76|\n",
      "|              Cancel|               1.0|\n",
      "|Cancellation Conf...|               1.0|\n",
      "|           Downgrade| 9.628571428571428|\n",
      "|               Error|1.4545454545454546|\n",
      "|                Help| 5.558139534883721|\n",
      "|                Home| 32.78431372549019|\n",
      "|              Logout|12.021739130434783|\n",
      "|            NextSong| 699.8846153846154|\n",
      "|         Roll Advert|             19.34|\n",
      "|       Save Settings|1.9333333333333333|\n",
      "|            Settings|  6.27906976744186|\n",
      "|    Submit Downgrade|               1.0|\n",
      "|      Submit Upgrade| 1.103448275862069|\n",
      "|         Thumbs Down|10.333333333333334|\n",
      "|           Thumbs Up|             37.18|\n",
      "|             Upgrade| 3.027027027027027|\n",
      "+--------------------+------------------+\n",
      "\n"
     ]
    }
   ],
   "source": [
    "ta = user_log.alias('ta')\n",
    "tb = churned_users.alias('tb')\n",
    "\n",
    "churn_page_avg = ta.join(tb, tb.userId == ta.userId, how='leftsemi')\\\n",
    "                    .select('ta.userId','page')\\\n",
    "                    .groupBy('ta.userId','page').count()\\\n",
    "                    .groupBy('page').avg()\\\n",
    "                    .sort('page')\n",
    "churn_page_avg.show()"
   ]
  },
  {
   "cell_type": "markdown",
   "metadata": {},
   "source": [
    "In average users that didn't churn perform the following actions"
   ]
  },
  {
   "cell_type": "code",
   "execution_count": 28,
   "metadata": {},
   "outputs": [
    {
     "name": "stdout",
     "output_type": "stream",
     "text": [
      "+----------------+------------------+\n",
      "|            page|        avg(count)|\n",
      "+----------------+------------------+\n",
      "|           About|3.5403225806451615|\n",
      "|      Add Friend| 22.47530864197531|\n",
      "| Add to Playlist| 33.26060606060606|\n",
      "|       Downgrade|14.436974789915967|\n",
      "|           Error|2.3157894736842106|\n",
      "|            Help| 8.154362416107382|\n",
      "|            Home|48.895348837209305|\n",
      "|          Logout|16.005988023952096|\n",
      "|        NextSong|1108.1734104046243|\n",
      "|     Roll Advert| 18.89171974522293|\n",
      "|   Save Settings|2.4705882352941178|\n",
      "|        Settings|  8.18421052631579|\n",
      "|Submit Downgrade|              1.35|\n",
      "|  Submit Upgrade|1.2450980392156863|\n",
      "|     Thumbs Down|13.225806451612904|\n",
      "|       Thumbs Up| 62.89411764705882|\n",
      "|         Upgrade| 2.954198473282443|\n",
      "+----------------+------------------+\n",
      "\n"
     ]
    }
   ],
   "source": [
    "ta = user_log.alias('ta')\n",
    "tb = churned_users.alias('tb')\n",
    "\n",
    "not_churn_page_avg = ta.join(tb, tb.userId == ta.userId, how='leftanti')\\\n",
    "                        .select('ta.userId','page')\\\n",
    "                        .groupBy('ta.userId','page').count()\\\n",
    "                        .groupBy('page').avg()\\\n",
    "                        .sort('page')\n",
    "not_churn_page_avg.show()"
   ]
  },
  {
   "cell_type": "markdown",
   "metadata": {},
   "source": [
    "It doesn't matter if an user cancells their account or not. They visit the same pages."
   ]
  },
  {
   "cell_type": "code",
   "execution_count": 29,
   "metadata": {},
   "outputs": [
    {
     "data": {
      "image/png": "[encoded data removed]",
      "text/plain": [
       "<Figure size 432x288 with 1 Axes>"
      ]
     },
     "metadata": {
      "needs_background": "light"
     },
     "output_type": "display_data"
    }
   ],
   "source": [
    "df = pd.merge(churn_page_avg.toPandas(), not_churn_page_avg.toPandas(), on='page', how='outer')\n",
    "ax = df.plot.bar(x='page', logy=True)\n",
    "ax.legend([\"Churn user\", \"Not churn user\"]);"
   ]
  },
  {
   "cell_type": "markdown",
   "metadata": {},
   "source": [
    "There are users that go to the Downgrade page without submiting the downgrade. Even users that have downgraded and upgraded again do that."
   ]
  },
  {
   "cell_type": "code",
   "execution_count": 30,
   "metadata": {},
   "outputs": [
    {
     "data": {
      "text/plain": [
       "[Row(userId='100014', ts=1542740649000, page='Cancellation Confirmation', level='paid', phase=0),\n",
       " Row(userId='100014', ts=1542740642000, page='Cancel', level='paid', phase=0),\n",
       " Row(userId='100014', ts=1542740641000, page='Downgrade', level='paid', phase=1),\n",
       " Row(userId='100014', ts=1542740628000, page='NextSong', level='paid', phase=1),\n",
       " Row(userId='100014', ts=1542740352000, page='NextSong', level='paid', phase=1)]"
      ]
     },
     "execution_count": 30,
     "metadata": {},
     "output_type": "execute_result"
    }
   ],
   "source": [
    "user_log.select([\"userId\", \"ts\", \"page\", \"level\", \"phase\"]).where(user_log.userId == \"100014\").sort(col(\"ts\").desc()).take(5)"
   ]
  },
  {
   "cell_type": "markdown",
   "metadata": {},
   "source": [
    "# Feature Engineering\n",
    "Once you've familiarized yourself with the data, build out the features you find promising to train your model on. To work with the full dataset, you can follow the following steps.\n",
    "- Write a script to extract the necessary features from the smaller subset of data\n",
    "- Ensure that your script is scalable, using the best practices discussed in Lesson 3\n",
    "- Try your script on the full data set, debugging your script if necessary\n",
    "\n",
    "If you are working in the classroom workspace, you can just extract features based on the small subset of data contained here. Be sure to transfer over this work to the larger dataset when you work on your Spark cluster."
   ]
  },
  {
   "cell_type": "markdown",
   "metadata": {},
   "source": [
    "0. Prepare the datasets (same as above)"
   ]
  },
  {
   "cell_type": "code",
   "execution_count": 31,
   "metadata": {},
   "outputs": [],
   "source": [
    "user_log = spark.read.json(\"mini_sparkify_event_data.json\")\n",
    "user_log = user_log.where(col('userid').isNotNull() & (col('userid') != ''))\n",
    "cancellation_confirmation_event = udf(lambda x: 1 if x == \"Cancellation Confirmation\" else 0, IntegerType())\n",
    "user_log = user_log.withColumn(\"churn\", cancellation_confirmation_event(\"page\"))\n",
    "churned_users = user_log.where(col('churn') == '1').select('userId', 'level')"
   ]
  },
  {
   "cell_type": "markdown",
   "metadata": {},
   "source": [
    "1. Create user base, one column for each page with the times a user opened it"
   ]
  },
  {
   "cell_type": "code",
   "execution_count": 32,
   "metadata": {},
   "outputs": [],
   "source": [
    "user_events_count = user_log.groupBy('userid','page').count()\n",
    "user_events_count_pivoted = user_events_count.groupBy('userId')\\\n",
    "                                .pivot('page').agg(first(col('count').cast('int')))\\\n",
    "                                .drop('Cancel', 'Cancellation Confirmation')\\\n",
    "                                .na.fill(0)\n"
   ]
  },
  {
   "cell_type": "code",
   "execution_count": 33,
   "metadata": {},
   "outputs": [
    {
     "name": "stdout",
     "output_type": "stream",
     "text": [
      "root\n",
      " |-- userId: string (nullable = true)\n",
      " |-- About: integer (nullable = true)\n",
      " |-- Add Friend: integer (nullable = true)\n",
      " |-- Add to Playlist: integer (nullable = true)\n",
      " |-- Downgrade: integer (nullable = true)\n",
      " |-- Error: integer (nullable = true)\n",
      " |-- Help: integer (nullable = true)\n",
      " |-- Home: integer (nullable = true)\n",
      " |-- Logout: integer (nullable = true)\n",
      " |-- NextSong: integer (nullable = true)\n",
      " |-- Roll Advert: integer (nullable = true)\n",
      " |-- Save Settings: integer (nullable = true)\n",
      " |-- Settings: integer (nullable = true)\n",
      " |-- Submit Downgrade: integer (nullable = true)\n",
      " |-- Submit Upgrade: integer (nullable = true)\n",
      " |-- Thumbs Down: integer (nullable = true)\n",
      " |-- Thumbs Up: integer (nullable = true)\n",
      " |-- Upgrade: integer (nullable = true)\n",
      "\n"
     ]
    }
   ],
   "source": [
    "user_events_count_pivoted.printSchema()"
   ]
  },
  {
   "cell_type": "markdown",
   "metadata": {},
   "source": [
    "2. Add a churn column"
   ]
  },
  {
   "cell_type": "code",
   "execution_count": 34,
   "metadata": {},
   "outputs": [],
   "source": [
    "ta = user_log.select('userId','page','level').dropDuplicates(['userId'])\n",
    "\n",
    "churn_user_base = ta.join(churned_users, 'userId', how='leftsemi')\\\n",
    "                        .withColumn('churn', lit(1))\n",
    "\n",
    "not_churn_user_base = ta.join(churned_users, 'userId', how='leftanti')\\\n",
    "                            .withColumn('churn', lit(0))\n",
    "\n",
    "user_base = churn_user_base.union(not_churn_user_base)\\\n",
    "                        .join(user_events_count_pivoted, 'userId')"
   ]
  },
  {
   "cell_type": "code",
   "execution_count": 35,
   "metadata": {},
   "outputs": [
    {
     "name": "stdout",
     "output_type": "stream",
     "text": [
      "root\n",
      " |-- userId: string (nullable = true)\n",
      " |-- page: string (nullable = true)\n",
      " |-- level: string (nullable = true)\n",
      " |-- churn: integer (nullable = false)\n",
      "\n"
     ]
    }
   ],
   "source": [
    "churn_user_base.printSchema()"
   ]
  },
  {
   "cell_type": "markdown",
   "metadata": {},
   "source": [
    "3. One hot encode the last action performed"
   ]
  },
  {
   "cell_type": "code",
   "execution_count": 36,
   "metadata": {},
   "outputs": [],
   "source": [
    "last_page = user_log.sort('userId','ts')\\\n",
    "            .select('userId','page')\\\n",
    "            .rdd.reduceByKey(lambda x,y: x if (y == 'Cancellation Confirmation' or y == 'Cancel') else y)\\\n",
    "            .toDF(['userId', 'page'])"
   ]
  },
  {
   "cell_type": "code",
   "execution_count": 37,
   "metadata": {},
   "outputs": [],
   "source": [
    "one_hot_encoded = last_page\n",
    "pages = last_page.select('page')\\\n",
    "                .distinct()\\\n",
    "                .rdd.flatMap(lambda x : x).collect()\n",
    "pages.sort()\n",
    "\n",
    "for page in pages:\n",
    "    function = udf(lambda item: 1 if item == page else 0, IntegerType())\n",
    "    new_column_name = 'last_page_'+page\n",
    "    one_hot_encoded = one_hot_encoded.withColumn(new_column_name, function(col('page')))\n",
    "    \n",
    "one_hot_encoded = one_hot_encoded.drop('page')\n",
    "user_base = user_base.drop('page').join(one_hot_encoded, 'userId', how='left')\n",
    "user_base = user_base.na.fill(0)"
   ]
  },
  {
   "cell_type": "code",
   "execution_count": 38,
   "metadata": {},
   "outputs": [
    {
     "name": "stdout",
     "output_type": "stream",
     "text": [
      "root\n",
      " |-- userId: string (nullable = true)\n",
      " |-- last_page_About: integer (nullable = true)\n",
      " |-- last_page_Add Friend: integer (nullable = true)\n",
      " |-- last_page_Add to Playlist: integer (nullable = true)\n",
      " |-- last_page_Downgrade: integer (nullable = true)\n",
      " |-- last_page_Help: integer (nullable = true)\n",
      " |-- last_page_Home: integer (nullable = true)\n",
      " |-- last_page_Logout: integer (nullable = true)\n",
      " |-- last_page_NextSong: integer (nullable = true)\n",
      " |-- last_page_Roll Advert: integer (nullable = true)\n",
      " |-- last_page_Settings: integer (nullable = true)\n",
      " |-- last_page_Thumbs Down: integer (nullable = true)\n",
      " |-- last_page_Thumbs Up: integer (nullable = true)\n",
      "\n"
     ]
    }
   ],
   "source": [
    "one_hot_encoded.printSchema()"
   ]
  },
  {
   "cell_type": "markdown",
   "metadata": {},
   "source": [
    "4. Last level"
   ]
  },
  {
   "cell_type": "code",
   "execution_count": 39,
   "metadata": {},
   "outputs": [],
   "source": [
    "last_level = user_log.sort('userId','ts')\\\n",
    "            .select('userId','level')\\\n",
    "            .rdd.reduceByKey(lambda x,y: y)\\\n",
    "            .toDF(['userId', 'level'])"
   ]
  },
  {
   "cell_type": "code",
   "execution_count": 40,
   "metadata": {},
   "outputs": [],
   "source": [
    "one_hot_encoded = last_level\n",
    "levels = user_base.select('level')\\\n",
    "                .distinct()\\\n",
    "                .rdd.flatMap(lambda x : x).collect()\n",
    "levels.sort()\n",
    "\n",
    "for level in levels:\n",
    "    function = udf(lambda item: 1 if item == level else 0, IntegerType())\n",
    "    new_column_name = 'last_level_'+level\n",
    "    one_hot_encoded = one_hot_encoded.withColumn(new_column_name, function(col('level')))\n",
    "    \n",
    "one_hot_encoded = one_hot_encoded.drop('level')\n",
    "user_base = user_base.join(one_hot_encoded, 'userId', how='left')\n",
    "user_base = user_base.na.fill(0)"
   ]
  },
  {
   "cell_type": "code",
   "execution_count": 41,
   "metadata": {},
   "outputs": [
    {
     "name": "stdout",
     "output_type": "stream",
     "text": [
      "root\n",
      " |-- userId: string (nullable = true)\n",
      " |-- last_level_free: integer (nullable = true)\n",
      " |-- last_level_paid: integer (nullable = true)\n",
      "\n"
     ]
    }
   ],
   "source": [
    "one_hot_encoded.printSchema()"
   ]
  },
  {
   "cell_type": "markdown",
   "metadata": {},
   "source": [
    "Final schema"
   ]
  },
  {
   "cell_type": "code",
   "execution_count": 42,
   "metadata": {},
   "outputs": [
    {
     "name": "stdout",
     "output_type": "stream",
     "text": [
      "root\n",
      " |-- userId: string (nullable = true)\n",
      " |-- level: string (nullable = true)\n",
      " |-- churn: integer (nullable = false)\n",
      " |-- About: integer (nullable = true)\n",
      " |-- Add Friend: integer (nullable = true)\n",
      " |-- Add to Playlist: integer (nullable = true)\n",
      " |-- Downgrade: integer (nullable = true)\n",
      " |-- Error: integer (nullable = true)\n",
      " |-- Help: integer (nullable = true)\n",
      " |-- Home: integer (nullable = true)\n",
      " |-- Logout: integer (nullable = true)\n",
      " |-- NextSong: integer (nullable = true)\n",
      " |-- Roll Advert: integer (nullable = true)\n",
      " |-- Save Settings: integer (nullable = true)\n",
      " |-- Settings: integer (nullable = true)\n",
      " |-- Submit Downgrade: integer (nullable = true)\n",
      " |-- Submit Upgrade: integer (nullable = true)\n",
      " |-- Thumbs Down: integer (nullable = true)\n",
      " |-- Thumbs Up: integer (nullable = true)\n",
      " |-- Upgrade: integer (nullable = true)\n",
      " |-- last_page_About: integer (nullable = true)\n",
      " |-- last_page_Add Friend: integer (nullable = true)\n",
      " |-- last_page_Add to Playlist: integer (nullable = true)\n",
      " |-- last_page_Downgrade: integer (nullable = true)\n",
      " |-- last_page_Help: integer (nullable = true)\n",
      " |-- last_page_Home: integer (nullable = true)\n",
      " |-- last_page_Logout: integer (nullable = true)\n",
      " |-- last_page_NextSong: integer (nullable = true)\n",
      " |-- last_page_Roll Advert: integer (nullable = true)\n",
      " |-- last_page_Settings: integer (nullable = true)\n",
      " |-- last_page_Thumbs Down: integer (nullable = true)\n",
      " |-- last_page_Thumbs Up: integer (nullable = true)\n",
      " |-- last_level_free: integer (nullable = true)\n",
      " |-- last_level_paid: integer (nullable = true)\n",
      "\n"
     ]
    }
   ],
   "source": [
    "user_base.printSchema()"
   ]
  },
  {
   "cell_type": "code",
   "execution_count": 43,
   "metadata": {},
   "outputs": [
    {
     "data": {
      "text/html": [
       "<div>\n",
       "<style scoped>\n",
       "    .dataframe tbody tr th:only-of-type {\n",
       "        vertical-align: middle;\n",
       "    }\n",
       "\n",
       "    .dataframe tbody tr th {\n",
       "        vertical-align: top;\n",
       "    }\n",
       "\n",
       "    .dataframe thead th {\n",
       "        text-align: right;\n",
       "    }\n",
       "</style>\n",
       "<table border=\"1\" class=\"dataframe\">\n",
       "  <thead>\n",
       "    <tr style=\"text-align: right;\">\n",
       "      <th></th>\n",
       "      <th>userId</th>\n",
       "      <th>level</th>\n",
       "      <th>churn</th>\n",
       "      <th>About</th>\n",
       "      <th>Add Friend</th>\n",
       "      <th>Add to Playlist</th>\n",
       "      <th>Downgrade</th>\n",
       "      <th>Error</th>\n",
       "      <th>Help</th>\n",
       "      <th>Home</th>\n",
       "      <th>...</th>\n",
       "      <th>last_page_Help</th>\n",
       "      <th>last_page_Home</th>\n",
       "      <th>last_page_Logout</th>\n",
       "      <th>last_page_NextSong</th>\n",
       "      <th>last_page_Roll Advert</th>\n",
       "      <th>last_page_Settings</th>\n",
       "      <th>last_page_Thumbs Down</th>\n",
       "      <th>last_page_Thumbs Up</th>\n",
       "      <th>last_level_free</th>\n",
       "      <th>last_level_paid</th>\n",
       "    </tr>\n",
       "  </thead>\n",
       "  <tbody>\n",
       "    <tr>\n",
       "      <th>0</th>\n",
       "      <td>100010</td>\n",
       "      <td>free</td>\n",
       "      <td>0</td>\n",
       "      <td>1</td>\n",
       "      <td>4</td>\n",
       "      <td>7</td>\n",
       "      <td>0</td>\n",
       "      <td>0</td>\n",
       "      <td>2</td>\n",
       "      <td>11</td>\n",
       "      <td>...</td>\n",
       "      <td>0</td>\n",
       "      <td>0</td>\n",
       "      <td>1</td>\n",
       "      <td>0</td>\n",
       "      <td>0</td>\n",
       "      <td>0</td>\n",
       "      <td>0</td>\n",
       "      <td>0</td>\n",
       "      <td>1</td>\n",
       "      <td>0</td>\n",
       "    </tr>\n",
       "    <tr>\n",
       "      <th>1</th>\n",
       "      <td>200002</td>\n",
       "      <td>free</td>\n",
       "      <td>0</td>\n",
       "      <td>3</td>\n",
       "      <td>4</td>\n",
       "      <td>8</td>\n",
       "      <td>5</td>\n",
       "      <td>0</td>\n",
       "      <td>2</td>\n",
       "      <td>20</td>\n",
       "      <td>...</td>\n",
       "      <td>0</td>\n",
       "      <td>0</td>\n",
       "      <td>0</td>\n",
       "      <td>0</td>\n",
       "      <td>0</td>\n",
       "      <td>0</td>\n",
       "      <td>0</td>\n",
       "      <td>1</td>\n",
       "      <td>0</td>\n",
       "      <td>1</td>\n",
       "    </tr>\n",
       "    <tr>\n",
       "      <th>2</th>\n",
       "      <td>125</td>\n",
       "      <td>free</td>\n",
       "      <td>1</td>\n",
       "      <td>0</td>\n",
       "      <td>0</td>\n",
       "      <td>0</td>\n",
       "      <td>0</td>\n",
       "      <td>0</td>\n",
       "      <td>0</td>\n",
       "      <td>0</td>\n",
       "      <td>...</td>\n",
       "      <td>0</td>\n",
       "      <td>0</td>\n",
       "      <td>0</td>\n",
       "      <td>0</td>\n",
       "      <td>1</td>\n",
       "      <td>0</td>\n",
       "      <td>0</td>\n",
       "      <td>0</td>\n",
       "      <td>1</td>\n",
       "      <td>0</td>\n",
       "    </tr>\n",
       "    <tr>\n",
       "      <th>3</th>\n",
       "      <td>124</td>\n",
       "      <td>paid</td>\n",
       "      <td>0</td>\n",
       "      <td>7</td>\n",
       "      <td>74</td>\n",
       "      <td>118</td>\n",
       "      <td>41</td>\n",
       "      <td>6</td>\n",
       "      <td>23</td>\n",
       "      <td>176</td>\n",
       "      <td>...</td>\n",
       "      <td>0</td>\n",
       "      <td>1</td>\n",
       "      <td>0</td>\n",
       "      <td>0</td>\n",
       "      <td>0</td>\n",
       "      <td>0</td>\n",
       "      <td>0</td>\n",
       "      <td>0</td>\n",
       "      <td>0</td>\n",
       "      <td>1</td>\n",
       "    </tr>\n",
       "    <tr>\n",
       "      <th>4</th>\n",
       "      <td>51</td>\n",
       "      <td>paid</td>\n",
       "      <td>1</td>\n",
       "      <td>2</td>\n",
       "      <td>28</td>\n",
       "      <td>52</td>\n",
       "      <td>23</td>\n",
       "      <td>1</td>\n",
       "      <td>12</td>\n",
       "      <td>75</td>\n",
       "      <td>...</td>\n",
       "      <td>0</td>\n",
       "      <td>0</td>\n",
       "      <td>0</td>\n",
       "      <td>0</td>\n",
       "      <td>0</td>\n",
       "      <td>1</td>\n",
       "      <td>0</td>\n",
       "      <td>0</td>\n",
       "      <td>0</td>\n",
       "      <td>1</td>\n",
       "    </tr>\n",
       "  </tbody>\n",
       "</table>\n",
       "<p>5 rows × 34 columns</p>\n",
       "</div>"
      ],
      "text/plain": [
       "   userId level  churn  About  Add Friend  Add to Playlist  Downgrade  Error  \\\n",
       "0  100010  free      0      1           4                7          0      0   \n",
       "1  200002  free      0      3           4                8          5      0   \n",
       "2     125  free      1      0           0                0          0      0   \n",
       "3     124  paid      0      7          74              118         41      6   \n",
       "4      51  paid      1      2          28               52         23      1   \n",
       "\n",
       "   Help  Home  ...  last_page_Help  last_page_Home  last_page_Logout  \\\n",
       "0     2    11  ...               0               0                 1   \n",
       "1     2    20  ...               0               0                 0   \n",
       "2     0     0  ...               0               0                 0   \n",
       "3    23   176  ...               0               1                 0   \n",
       "4    12    75  ...               0               0                 0   \n",
       "\n",
       "   last_page_NextSong  last_page_Roll Advert  last_page_Settings  \\\n",
       "0                   0                      0                   0   \n",
       "1                   0                      0                   0   \n",
       "2                   0                      1                   0   \n",
       "3                   0                      0                   0   \n",
       "4                   0                      0                   1   \n",
       "\n",
       "   last_page_Thumbs Down  last_page_Thumbs Up  last_level_free  \\\n",
       "0                      0                    0                1   \n",
       "1                      0                    1                0   \n",
       "2                      0                    0                1   \n",
       "3                      0                    0                0   \n",
       "4                      0                    0                0   \n",
       "\n",
       "   last_level_paid  \n",
       "0                0  \n",
       "1                1  \n",
       "2                0  \n",
       "3                1  \n",
       "4                1  \n",
       "\n",
       "[5 rows x 34 columns]"
      ]
     },
     "execution_count": 43,
     "metadata": {},
     "output_type": "execute_result"
    }
   ],
   "source": [
    "user_base.toPandas().head()"
   ]
  },
  {
   "cell_type": "markdown",
   "metadata": {},
   "source": [
    "# Modeling\n",
    "Split the full dataset into train, test, and validation sets. Test out several of the machine learning methods you learned. Evaluate the accuracy of the various models, tuning parameters as necessary. Determine your winning model based on test accuracy and report results on the validation set. Since the churned users are a fairly small subset, I suggest using F1 score as the metric to optimize."
   ]
  },
  {
   "cell_type": "markdown",
   "metadata": {},
   "source": [
    "0. Prepare the dataset for training"
   ]
  },
  {
   "cell_type": "code",
   "execution_count": 44,
   "metadata": {},
   "outputs": [
    {
     "data": {
      "text/plain": [
       "[Row(userId='100010', level='free', churn=0, features=SparseVector(31, {0: 1.0, 1: 4.0, 2: 7.0, 5: 2.0, 6: 11.0, 7: 5.0, 8: 275.0, 9: 52.0, 14: 17.0, 15: 5.0, 16: 2.0, 23: 1.0, 29: 1.0}))]"
      ]
     },
     "execution_count": 44,
     "metadata": {},
     "output_type": "execute_result"
    }
   ],
   "source": [
    "vector_assembler = VectorAssembler(inputCols=[\"About\", \"Add Friend\", \"Add to Playlist\", \"Downgrade\", \"Error\", \"Help\", \"Home\", \"Logout\", \"NextSong\", \"Roll Advert\", \"Save Settings\", \"Settings\", \"Submit Downgrade\", \"Submit Upgrade\", \"Thumbs Up\", \"Thumbs Down\", \"Upgrade\", \"last_page_About\", \"last_page_Add Friend\", \"last_page_Add to Playlist\", \"last_page_Downgrade\", \"last_page_Help\", \"last_page_Home\", \"last_page_Logout\", \"last_page_NextSong\", \"last_page_Roll Advert\", \"last_page_Settings\", \"last_page_Thumbs Down\", \"last_page_Thumbs Up\", \"last_level_free\", \"last_level_paid\"],outputCol=\"features\")\n",
    "\n",
    "df_temp = vector_assembler.transform(user_base)\n",
    "df_temp = df_temp.drop(\"About\", \"Add Friend\", \"Add to Playlist\", \"Downgrade\", \"Error\", \"Help\", \"Home\", \"Logout\", \"NextSong\", \"Roll Advert\", \"Save Settings\", \"Settings\", \"Submit Downgrade\", \"Submit Upgrade\", \"Thumbs Up\", \"Thumbs Down\", \"Upgrade\", \"last_page_About\", \"last_page_Add Friend\", \"last_page_Add to Playlist\", \"last_page_Downgrade\", \"last_page_Help\", \"last_page_Home\", \"last_page_Logout\", \"last_page_NextSong\", \"last_page_Roll Advert\", \"last_page_Settings\", \"last_page_Thumbs Down\", \"last_page_Thumbs Up\", \"last_level_free\", \"last_level_paid\")\n",
    "\n",
    "df_temp.take(1)"
   ]
  },
  {
   "cell_type": "markdown",
   "metadata": {},
   "source": [
    "1. Build a Decision Tree classifier, and a Cross Validator to test different parameters"
   ]
  },
  {
   "cell_type": "code",
   "execution_count": 45,
   "metadata": {},
   "outputs": [],
   "source": [
    "train, test = df_temp.withColumnRenamed('churn', 'label').randomSplit([0.7, 0.3], seed=42)\n",
    "model = DecisionTreeClassifier(featuresCol=\"features\")\n",
    "\n",
    "paramGrid = ParamGridBuilder() \\\n",
    "    .addGrid(model.maxDepth,[5, 10, 30]) \\\n",
    "    .addGrid(model.maxBins,[32, 64]) \\\n",
    "    .build()\n",
    "\n",
    "crossval = CrossValidator(estimator=model,\n",
    "                          estimatorParamMaps=paramGrid,\n",
    "                          evaluator=MulticlassClassificationEvaluator(),\n",
    "                          numFolds=3)\n",
    "\n",
    "cv_model = crossval.fit(train)"
   ]
  },
  {
   "cell_type": "markdown",
   "metadata": {},
   "source": [
    "3. Measure the final predictions over the testing set"
   ]
  },
  {
   "cell_type": "code",
   "execution_count": 46,
   "metadata": {},
   "outputs": [
    {
     "name": "stdout",
     "output_type": "stream",
     "text": [
      "+----------+-----+\n",
      "|prediction|label|\n",
      "+----------+-----+\n",
      "|       0.0|    0|\n",
      "|       1.0|    1|\n",
      "|       0.0|    0|\n",
      "|       1.0|    1|\n",
      "|       0.0|    0|\n",
      "+----------+-----+\n",
      "only showing top 5 rows\n",
      "\n"
     ]
    }
   ],
   "source": [
    "predictions = cv_model.transform(test)\n",
    "predictions.select(\"prediction\", \"label\").show(5)"
   ]
  },
  {
   "cell_type": "code",
   "execution_count": 62,
   "metadata": {},
   "outputs": [
    {
     "name": "stdout",
     "output_type": "stream",
     "text": [
      "Accuracy = 0.919355 \n",
      "F1 score = 0.918488 \n",
      "Weighted Precision = 0.918234 \n",
      "Weighted Recall = 0.919355 \n"
     ]
    }
   ],
   "source": [
    "evaluatorMulti = MulticlassClassificationEvaluator(labelCol=\"label\", predictionCol=\"prediction\",metricName=\"accuracy\")\n",
    "predictionAndTarget = predictions.select(\"prediction\", \"label\")\n",
    "\n",
    "# Get metrics\n",
    "acc = evaluatorMulti.evaluate(predictionAndTarget, {evaluatorMulti.metricName: \"accuracy\"})\n",
    "f1 = evaluatorMulti.evaluate(predictionAndTarget, {evaluatorMulti.metricName: \"f1\"})\n",
    "weightedPrecision = evaluatorMulti.evaluate(predictionAndTarget, {evaluatorMulti.metricName: \"weightedPrecision\"})\n",
    "weightedRecall = evaluatorMulti.evaluate(predictionAndTarget, {evaluatorMulti.metricName: \"weightedRecall\"})\n",
    "print(\"Accuracy = %g \" % accuracy)\n",
    "print(\"F1 score = %g \" % f1)\n",
    "print(\"Weighted Precision = %g \" % weightedPrecision)\n",
    "print(\"Weighted Recall = %g \" % weightedRecall)\n",
    "\n"
   ]
  },
  {
   "cell_type": "markdown",
   "metadata": {},
   "source": [
    "The final model has the following parameters"
   ]
  },
  {
   "cell_type": "code",
   "execution_count": 49,
   "metadata": {},
   "outputs": [
    {
     "name": "stdout",
     "output_type": "stream",
     "text": [
      "Best Param (maxDepth):  5\n",
      "Best Param (maxBins):  32\n"
     ]
    }
   ],
   "source": [
    "bestModel = cv_model.bestModel\n",
    "print('Best Param (maxDepth): ', bestModel._java_obj.getMaxDepth())\n",
    "print('Best Param (maxBins): ', bestModel._java_obj.getMaxBins())"
   ]
  },
  {
   "cell_type": "markdown",
   "metadata": {},
   "source": [
    "# Final Steps\n",
    "Clean up your code, adding comments and renaming variables to make the code easier to read and maintain. Refer to the Spark Project Overview page and Data Scientist Capstone Project Rubric to make sure you are including all components of the capstone project and meet all expectations. Remember, this includes thorough documentation in a README file in a Github repository, as well as a web app or blog post."
   ]
  },
  {
   "cell_type": "code",
   "execution_count": null,
   "metadata": {},
   "outputs": [],
   "source": []
  }
 ],
 "metadata": {
  "kernelspec": {
   "display_name": "Python 3",
   "language": "python",
   "name": "python3"
  },
  "language_info": {
   "codemirror_mode": {
    "name": "ipython",
    "version": 3
   },
   "file_extension": ".py",
   "mimetype": "text/x-python",
   "name": "python",
   "nbconvert_exporter": "python",
   "pygments_lexer": "ipython3",
   "version": "3.7.4"
  }
 },
 "nbformat": 4,
 "nbformat_minor": 4
}
